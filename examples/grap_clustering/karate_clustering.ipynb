{
 "cells": [
  {
   "cell_type": "code",
   "execution_count": null,
   "id": "9547e26d",
   "metadata": {},
   "outputs": [],
   "source": [
    "using DrWatson\n",
    "@quickactivate \n",
    "\n",
    "using Flux, Graphs, Statistics, Plots, GraphPlot, Zygote\n",
    "using Cairo, Compose\n",
    "using SumProductSet\n",
    "import Mill"
   ]
  },
  {
   "cell_type": "markdown",
   "id": "6e4b9c5a",
   "metadata": {},
   "source": [
    "# Graph clustering on Karate graph data"
   ]
  },
  {
   "cell_type": "code",
   "execution_count": null,
   "id": "c72ec196",
   "metadata": {},
   "outputs": [],
   "source": [
    "g = smallgraph(:karate)\n",
    "vs = collect(vertices(g))\n",
    "x = Flux.onehotbatch(vs, vs)\n",
    "ds_train = Mill.BagNode(x, g.fadjlist)"
   ]
  },
  {
   "cell_type": "code",
   "execution_count": null,
   "id": "b528d0cd",
   "metadata": {},
   "outputs": [],
   "source": [
    "r = rand(d)\n",
    "dir_rand = r ./ sum(r)\n",
    "f_cat = d->Categorical(log.(dir_rand(d)))\n",
    "m = reflectinmodel(ds_train[1], 2; f_card=()->Poisson(log(4)), f_cat=f_cat)\n",
    "m"
   ]
  },
  {
   "cell_type": "code",
   "execution_count": null,
   "id": "1e31e02e",
   "metadata": {},
   "outputs": [],
   "source": [
    "function train!(m, x; niter::Int=1000, opt=ADAM(1.))\n",
    "    ps = Flux.params(m)\n",
    "\n",
    "    for i in 1:niter\n",
    "        gs = gradient(() -> SumProductSet.ul_loss(m, x), ps)\n",
    "        Flux.Optimise.update!(opt, ps, gs)\n",
    "    end\n",
    "end"
   ]
  },
  {
   "cell_type": "code",
   "execution_count": null,
   "id": "2cd9278d",
   "metadata": {},
   "outputs": [],
   "source": [
    "colors = [colorant\"yellow\", colorant\"red\"]\n",
    "nodelabel = 1:nv(g)\n",
    "layout=_->spring_layout(g, 3)"
   ]
  },
  {
   "cell_type": "code",
   "execution_count": null,
   "id": "9b035431",
   "metadata": {},
   "outputs": [],
   "source": [
    "train!(m, ds_train; opt=ADAM(1.), niter=200)\n",
    "predict = x->mapslices(argmax, logjnt(m, x), dims=1)[:] \n",
    "clusters = predict(ds_train);\n",
    "gplot(g, nodefillc=colors[clusters], layout=layout, nodelabel=nodelabel)"
   ]
  },
  {
   "cell_type": "code",
   "execution_count": null,
   "id": "57ff9b87",
   "metadata": {},
   "outputs": [],
   "source": [
    "m = reflectinmodel(ds_train[1], 2; f_card=()->Poisson(log(3)), f_cat=f_cat)\n",
    "train!(m, ds_train; opt=ADAM(0.1), niter=200)\n",
    "clusters = predict(ds_train)\n",
    "gplot(g, nodefillc=colors[clusters], layout=layout, nodelabel=nodelabel)"
   ]
  },
  {
   "cell_type": "code",
   "execution_count": null,
   "id": "2a2ee670",
   "metadata": {},
   "outputs": [],
   "source": [
    "# draw(PDF(\"karate_presentation_clustered.pdf\", 16cm, 9cm), gplot(g,nodefillc=colors[clusters], layout=layout, nodelabel=nodelabel))"
   ]
  }
 ],
 "metadata": {
  "kernelspec": {
   "display_name": "Julia 1.8.2",
   "language": "julia",
   "name": "julia-1.8"
  },
  "language_info": {
   "file_extension": ".jl",
   "mimetype": "application/julia",
   "name": "julia",
   "version": "1.8.2"
  }
 },
 "nbformat": 4,
 "nbformat_minor": 5
}
