{
 "cells": [
  {
   "cell_type": "code",
   "execution_count": 1,
   "id": "bbb741d7",
   "metadata": {},
   "outputs": [
    {
     "name": "stderr",
     "output_type": "stream",
     "text": [
      "\u001b[36m\u001b[1m[ \u001b[22m\u001b[39m\u001b[36m\u001b[1mInfo: \u001b[22m\u001b[39mPrecompiling SumProductSet [d0366596-3556-49ae-b3ef-851ab4ad1106]\n"
     ]
    }
   ],
   "source": [
    "using DrWatson\n",
    "@quickactivate \n",
    "\n",
    "using JsonGrinder, Flux, MLDatasets, Statistics, Random, Printf, JSON3, HierarchicalUtils\n",
    "using SumProductSet\n",
    "import Mill"
   ]
  },
  {
   "cell_type": "markdown",
   "id": "8911e1b6",
   "metadata": {},
   "source": [
    "# Update default JsonGrinder extractor"
   ]
  },
  {
   "cell_type": "code",
   "execution_count": 2,
   "id": "23c36eb4",
   "metadata": {},
   "outputs": [
    {
     "data": {
      "text/plain": [
       "default_scalar_extractor (generic function with 1 method)"
      ]
     },
     "execution_count": 2,
     "metadata": {},
     "output_type": "execute_result"
    }
   ],
   "source": [
    "function default_scalar_extractor()\n",
    "    [\n",
    "    (e -> length(keys(e)) <= 100 && JsonGrinder.is_numeric_or_numeric_string(e),\n",
    "        (e, uniontypes) -> ExtractCategorical(keys(e), uniontypes)),\n",
    "    (e -> JsonGrinder.is_intable(e),\n",
    "        (e, uniontypes) -> extractscalar(Int32, e, uniontypes)),\n",
    "    (e -> JsonGrinder.is_floatable(e),\n",
    "        (e, uniontypes) -> extractscalar(Float32, e, uniontypes)),\n",
    "    (e -> (keys_len = length(keys(e)); keys_len / e.updated < 0.1 && keys_len < 10000 && !JsonGrinder.is_numeric_or_numeric_string(e)),\n",
    "        (e, uniontypes) -> ExtractCategorical(keys(e), uniontypes)),\n",
    "    (e -> true,\n",
    "        (e, uniontypes) -> ExtractScalar(Float32, 0., 1., false)),]\n",
    "end"
   ]
  },
  {
   "cell_type": "markdown",
   "id": "329a1557",
   "metadata": {},
   "source": [
    "# Extract data into MILL format"
   ]
  },
  {
   "cell_type": "code",
   "execution_count": 3,
   "id": "fff1d557",
   "metadata": {},
   "outputs": [
    {
     "data": {
      "text/plain": [
       "\u001b[34mProductNode\u001b[39m\u001b[90m  # 100 obs, 104 bytes\u001b[39m\n",
       "\u001b[34m  ├─── lumo: \u001b[39m\u001b[39mArrayNode(99×100 OneHotArray with Bool elements)\u001b[90m  # 100 obs, 456  \u001b[39m\u001b[90m⋯\u001b[39m\n",
       "\u001b[34m  ├─── inda: \u001b[39m\u001b[39mArrayNode(2×100 OneHotArray with Bool elements)\u001b[90m  # 100 obs, 456 b \u001b[39m\u001b[90m⋯\u001b[39m\n",
       "\u001b[34m  ├─── logp: \u001b[39m\u001b[39mArrayNode(63×100 OneHotArray with Bool elements)\u001b[90m  # 100 obs, 456  \u001b[39m\u001b[90m⋯\u001b[39m\n",
       "\u001b[34m  ├─── ind1: \u001b[39m\u001b[39mArrayNode(3×100 OneHotArray with Bool elements)\u001b[90m  # 100 obs, 456 b \u001b[39m\u001b[90m⋯\u001b[39m\n",
       "\u001b[34m  ╰── atoms: \u001b[39m\u001b[31mBagNode\u001b[39m\u001b[90m  # 100 obs, 1.680 KiB\u001b[39m\n",
       "\u001b[34m             \u001b[39m\u001b[31m  ╰── \u001b[39m\u001b[32mProductNode\u001b[39m\u001b[90m  # 2529 obs, 64 bytes\u001b[39m\n",
       "\u001b[34m             \u001b[39m\u001b[31m      \u001b[39m\u001b[32m  ├──── element: \u001b[39m\u001b[39mArrayNode(7×2529 OneHotArray with Bool ele \u001b[90m⋯\u001b[39m\n",
       "\u001b[34m             \u001b[39m\u001b[31m      \u001b[39m\u001b[32m  ├────── bonds: \u001b[39m\u001b[33mBagNode\u001b[39m\u001b[90m  # 2529 obs, 39.602 KiB\u001b[39m\n",
       "\u001b[34m             \u001b[39m\u001b[31m      \u001b[39m\u001b[32m  │              \u001b[39m\u001b[33m  ╰── \u001b[39m\u001b[36mProductNode\u001b[39m\u001b[90m  # 5402 obs, 32 bytes\u001b[39m\n",
       "\u001b[34m             \u001b[39m\u001b[31m      \u001b[39m\u001b[32m  │              \u001b[39m\u001b[33m      \u001b[39m\u001b[36m  ┊\u001b[39m\n",
       "\u001b[34m             \u001b[39m\u001b[31m      \u001b[39m\u001b[32m  ├───── charge: \u001b[39m\u001b[39mArrayNode(1×2529 Array with Float32 elemen \u001b[90m⋯\u001b[39m\n",
       "\u001b[34m             \u001b[39m\u001b[31m      \u001b[39m\u001b[32m  ╰── atom_type: \u001b[39m\u001b[39mArrayNode(29×2529 OneHotArray with Bool el \u001b[90m⋯\u001b[39m"
      ]
     },
     "execution_count": 3,
     "metadata": {},
     "output_type": "execute_result"
    }
   ],
   "source": [
    "train_data = MLDatasets.Mutagenesis(split=:train)\n",
    "x_train, y_train = train_data.features, train_data.targets\n",
    "y_train .+= 1;\n",
    "sch = JsonGrinder.schema(x_train)\n",
    "extractor = suggestextractor(sch, (; scalar_extractors = default_scalar_extractor()))\n",
    "ds_train = Mill.catobs(extractor.(x_train))"
   ]
  },
  {
   "cell_type": "code",
   "execution_count": 4,
   "id": "c35db75d",
   "metadata": {
    "scrolled": true
   },
   "outputs": [
    {
     "name": "stdout",
     "output_type": "stream",
     "text": [
      "\u001b[34m[Dict]\u001b[39m\u001b[90m  # updated = 100\u001b[39m\n",
      "\u001b[34m  ├─── lumo: \u001b[39m\u001b[39m[Scalar - Float64], 98 unique values\u001b[90m  # updated = 100\u001b[39m\n",
      "\u001b[34m  ├─── inda: \u001b[39m\u001b[39m[Scalar - Int64], 1 unique values\u001b[90m  # updated = 100\u001b[39m\n",
      "\u001b[34m  ├─── logp: \u001b[39m\u001b[39m[Scalar - Float64,Int64], 62 unique values\u001b[90m  # updated = 100\u001b[39m\n",
      "\u001b[34m  ├─── ind1: \u001b[39m\u001b[39m[Scalar - Int64], 2 unique values\u001b[90m  # updated = 100\u001b[39m\n",
      "\u001b[34m  ╰── atoms: \u001b[39m\u001b[31m[List]\u001b[39m\u001b[90m  # updated = 100\u001b[39m\n",
      "\u001b[34m             \u001b[39m\u001b[31m  ╰── \u001b[39m\u001b[32m[Dict]\u001b[39m\u001b[90m  # updated = 2529\u001b[39m\n",
      "\u001b[34m             \u001b[39m\u001b[31m      \u001b[39m\u001b[32m  ├──── element: \u001b[39m\u001b[39m[Scalar - String], 6 unique values\u001b[90m  # updated = 2529\u001b[39m\n",
      "\u001b[34m             \u001b[39m\u001b[31m      \u001b[39m\u001b[32m  ├────── bonds: \u001b[39m\u001b[33m[List]\u001b[39m\u001b[90m  # updated = 2529\u001b[39m\n",
      "\u001b[34m             \u001b[39m\u001b[31m      \u001b[39m\u001b[32m  │              \u001b[39m\u001b[33m  ╰── \u001b[39m\u001b[36m[Dict]\u001b[39m\u001b[90m  # updated = 5402\u001b[39m\n",
      "\u001b[34m             \u001b[39m\u001b[31m      \u001b[39m\u001b[32m  │              \u001b[39m\u001b[33m      \u001b[39m\u001b[36m  ├──── element: \u001b[39m\u001b[39m[Scalar - String], 6 unique values\u001b[90m  # updated = 5402\u001b[39m\n",
      "\u001b[34m             \u001b[39m\u001b[31m      \u001b[39m\u001b[32m  │              \u001b[39m\u001b[33m      \u001b[39m\u001b[36m  ├── bond_type: \u001b[39m\u001b[39m[Scalar - Int64], 3 unique values\u001b[90m  # updated = 5402\u001b[39m\n",
      "\u001b[34m             \u001b[39m\u001b[31m      \u001b[39m\u001b[32m  │              \u001b[39m\u001b[33m      \u001b[39m\u001b[36m  ├───── charge: \u001b[39m\u001b[39m[Scalar - Float64], 318 unique values\u001b[90m  # updated = 5402\u001b[39m\n",
      "\u001b[34m             \u001b[39m\u001b[31m      \u001b[39m\u001b[32m  │              \u001b[39m\u001b[33m      \u001b[39m\u001b[36m  ╰── atom_type: \u001b[39m\u001b[39m[Scalar - Int64], 28 unique values\u001b[90m  # updated = 5402\u001b[39m\n",
      "\u001b[34m             \u001b[39m\u001b[31m      \u001b[39m\u001b[32m  ├───── charge: \u001b[39m\u001b[39m[Scalar - Float64], 318 unique values\u001b[90m  # updated = 2529\u001b[39m\n",
      "\u001b[34m             \u001b[39m\u001b[31m      \u001b[39m\u001b[32m  ╰── atom_type: \u001b[39m\u001b[39m[Scalar - Int64], 28 unique values\u001b[90m  # updated = 2529\u001b[39m\n"
     ]
    }
   ],
   "source": [
    "printtree(sch, htrunc=25, vtrunc=25)"
   ]
  },
  {
   "cell_type": "code",
   "execution_count": 5,
   "id": "afcc3ed5",
   "metadata": {},
   "outputs": [],
   "source": [
    "test_data = MLDatasets.Mutagenesis(split=:test)\n",
    "x_test, y_test = test_data.features, test_data.targets\n",
    "y_test .+= 1;\n",
    "ds_test = Mill.catobs(extractor.(x_test));"
   ]
  },
  {
   "cell_type": "markdown",
   "id": "ff806a2a",
   "metadata": {},
   "source": [
    "# Define training utility functions"
   ]
  },
  {
   "cell_type": "code",
   "execution_count": 6,
   "id": "d55cc9b6",
   "metadata": {},
   "outputs": [
    {
     "data": {
      "text/plain": [
       "train! (generic function with 1 method)"
      ]
     },
     "execution_count": 6,
     "metadata": {},
     "output_type": "execute_result"
    }
   ],
   "source": [
    "function train!(m, x, y; niter::Int=100, opt=ADAM(0.1), cb=iter->())\n",
    "    ps = Flux.params(m)\n",
    "    cb(0)\n",
    "    for i in 1:niter\n",
    "        gs = gradient(() -> SumProductSet.ce_loss(m, x, y), ps)\n",
    "        Flux.Optimise.update!(opt, ps, gs)\n",
    "        cb(i)\n",
    "    end\n",
    "end"
   ]
  },
  {
   "cell_type": "code",
   "execution_count": 7,
   "id": "3a303864",
   "metadata": {},
   "outputs": [
    {
     "data": {
      "text/plain": [
       "#28 (generic function with 1 method)"
      ]
     },
     "execution_count": 7,
     "metadata": {},
     "output_type": "execute_result"
    }
   ],
   "source": [
    "predict = x-> Flux.onecold(softmax(logjnt(m, x)))"
   ]
  },
  {
   "cell_type": "code",
   "execution_count": 8,
   "id": "c65e3b17",
   "metadata": {},
   "outputs": [
    {
     "data": {
      "text/plain": [
       "status (generic function with 1 method)"
      ]
     },
     "execution_count": 8,
     "metadata": {},
     "output_type": "execute_result"
    }
   ],
   "source": [
    "accuracy(y, x) = mean(y .== predict(x))\n",
    "function status(iter, x_trn, y_trn, x_tst, y_tst)\n",
    "    acc_trn = accuracy(y_trn, x_trn) \n",
    "    acc_tst = accuracy(y_tst, x_tst)\n",
    "    \n",
    "    @printf(\"Epoch %i - acc: | %.3f  %.3f | \\n\", iter, acc_trn, acc_tst)\n",
    "end"
   ]
  },
  {
   "cell_type": "markdown",
   "id": "b1f2ca0f",
   "metadata": {},
   "source": [
    "# Initialize model which reflects training data"
   ]
  },
  {
   "cell_type": "code",
   "execution_count": 9,
   "id": "6ad1b8be",
   "metadata": {},
   "outputs": [
    {
     "name": "stdout",
     "output_type": "stream",
     "text": [
      "Epoch 0 - acc: | 0.610  0.682 | \n",
      "Epoch 1 - acc: | 0.610  0.682 | \n",
      "Epoch 2 - acc: | 0.610  0.682 | \n",
      "Epoch 3 - acc: | 0.670  0.682 | \n",
      "Epoch 4 - acc: | 0.850  0.773 | \n",
      "Epoch 5 - acc: | 0.850  0.795 | \n",
      "Epoch 6 - acc: | 0.830  0.773 | \n",
      "Epoch 7 - acc: | 0.820  0.818 | \n",
      "Epoch 8 - acc: | 0.800  0.750 | \n",
      "Epoch 9 - acc: | 0.800  0.727 | \n",
      "Epoch 10 - acc: | 0.790  0.682 | \n",
      "Epoch 11 - acc: | 0.790  0.659 | \n",
      "Epoch 12 - acc: | 0.790  0.682 | \n",
      "Epoch 13 - acc: | 0.790  0.705 | \n",
      "Epoch 14 - acc: | 0.790  0.727 | \n",
      "Epoch 15 - acc: | 0.800  0.750 | \n",
      "Epoch 16 - acc: | 0.800  0.773 | \n",
      "Epoch 17 - acc: | 0.840  0.773 | \n",
      "Epoch 18 - acc: | 0.890  0.773 | \n",
      "Epoch 19 - acc: | 0.880  0.773 | \n",
      "Epoch 20 - acc: | 0.880  0.795 | \n",
      "Epoch 21 - acc: | 0.870  0.795 | \n",
      "Epoch 22 - acc: | 0.870  0.795 | \n",
      "Epoch 23 - acc: | 0.880  0.795 | \n",
      "Epoch 24 - acc: | 0.890  0.795 | \n",
      "Epoch 25 - acc: | 0.880  0.795 | \n",
      "Epoch 26 - acc: | 0.880  0.795 | \n",
      "Epoch 27 - acc: | 0.880  0.773 | \n",
      "Epoch 28 - acc: | 0.870  0.773 | \n",
      "Epoch 29 - acc: | 0.850  0.773 | \n",
      "Epoch 30 - acc: | 0.840  0.773 | \n",
      "Epoch 31 - acc: | 0.840  0.773 | \n",
      "Epoch 32 - acc: | 0.850  0.773 | \n",
      "Epoch 33 - acc: | 0.870  0.773 | \n",
      "Epoch 34 - acc: | 0.870  0.773 | \n",
      "Epoch 35 - acc: | 0.880  0.773 | \n",
      "Epoch 36 - acc: | 0.880  0.773 | \n",
      "Epoch 37 - acc: | 0.880  0.773 | \n",
      "Epoch 38 - acc: | 0.880  0.773 | \n",
      "Epoch 39 - acc: | 0.860  0.773 | \n",
      "Epoch 40 - acc: | 0.880  0.773 | \n",
      "Epoch 41 - acc: | 0.880  0.773 | \n",
      "Epoch 42 - acc: | 0.880  0.773 | \n",
      "Epoch 43 - acc: | 0.880  0.773 | \n",
      "Epoch 44 - acc: | 0.880  0.773 | \n",
      "Epoch 45 - acc: | 0.860  0.773 | \n",
      "Epoch 46 - acc: | 0.850  0.773 | \n",
      "Epoch 47 - acc: | 0.850  0.773 | \n",
      "Epoch 48 - acc: | 0.850  0.773 | \n",
      "Epoch 49 - acc: | 0.850  0.773 | \n",
      "Epoch 50 - acc: | 0.850  0.773 | \n",
      "Epoch 51 - acc: | 0.860  0.773 | \n",
      "Epoch 52 - acc: | 0.870  0.773 | \n",
      "Epoch 53 - acc: | 0.870  0.773 | \n",
      "Epoch 54 - acc: | 0.870  0.773 | \n",
      "Epoch 55 - acc: | 0.890  0.773 | \n",
      "Epoch 56 - acc: | 0.890  0.773 | \n",
      "Epoch 57 - acc: | 0.890  0.773 | \n",
      "Epoch 58 - acc: | 0.890  0.773 | \n",
      "Epoch 59 - acc: | 0.890  0.773 | \n",
      "Epoch 60 - acc: | 0.890  0.773 | \n",
      "Epoch 61 - acc: | 0.890  0.773 | \n",
      "Epoch 62 - acc: | 0.890  0.773 | \n",
      "Epoch 63 - acc: | 0.890  0.773 | \n",
      "Epoch 64 - acc: | 0.890  0.773 | \n",
      "Epoch 65 - acc: | 0.890  0.773 | \n",
      "Epoch 66 - acc: | 0.890  0.773 | \n",
      "Epoch 67 - acc: | 0.890  0.773 | \n",
      "Epoch 68 - acc: | 0.890  0.773 | \n",
      "Epoch 69 - acc: | 0.890  0.773 | \n",
      "Epoch 70 - acc: | 0.890  0.773 | \n",
      "Epoch 71 - acc: | 0.890  0.773 | \n",
      "Epoch 72 - acc: | 0.890  0.773 | \n",
      "Epoch 73 - acc: | 0.890  0.773 | \n",
      "Epoch 74 - acc: | 0.890  0.773 | \n",
      "Epoch 75 - acc: | 0.890  0.773 | \n",
      "Epoch 76 - acc: | 0.890  0.773 | \n",
      "Epoch 77 - acc: | 0.890  0.773 | \n",
      "Epoch 78 - acc: | 0.890  0.773 | \n",
      "Epoch 79 - acc: | 0.890  0.773 | \n",
      "Epoch 80 - acc: | 0.890  0.773 | \n",
      "Epoch 81 - acc: | 0.890  0.773 | \n",
      "Epoch 82 - acc: | 0.890  0.773 | \n",
      "Epoch 83 - acc: | 0.890  0.773 | \n",
      "Epoch 84 - acc: | 0.890  0.773 | \n",
      "Epoch 85 - acc: | 0.890  0.773 | \n",
      "Epoch 86 - acc: | 0.890  0.773 | \n",
      "Epoch 87 - acc: | 0.890  0.773 | \n",
      "Epoch 88 - acc: | 0.890  0.773 | \n",
      "Epoch 89 - acc: | 0.890  0.773 | \n",
      "Epoch 90 - acc: | 0.890  0.773 | \n",
      "Epoch 91 - acc: | 0.890  0.773 | \n",
      "Epoch 92 - acc: | 0.890  0.773 | \n",
      "Epoch 93 - acc: | 0.890  0.773 | \n",
      "Epoch 94 - acc: | 0.890  0.773 | \n",
      "Epoch 95 - acc: | 0.890  0.773 | \n",
      "Epoch 96 - acc: | 0.890  0.773 | \n",
      "Epoch 97 - acc: | 0.890  0.773 | \n",
      "Epoch 98 - acc: | 0.890  0.773 | \n",
      "Epoch 99 - acc: | 0.890  0.773 | \n",
      "Epoch 100 - acc: | 0.890  0.773 | \n",
      "159.992875 seconds (247.45 M allocations: 59.246 GiB, 8.70% gc time, 72.44% compilation time)\n"
     ]
    }
   ],
   "source": [
    "Random.seed!(1234);\n",
    "dir_rand(d) = (r = rand(d); return r ./ sum(r))\n",
    "f_cat = d->Categorical(log.(dir_rand(d))) # choose how to represent categorical variables\n",
    "f_cont = d->gmm(2, d)  # choose how to represent continuous variables\n",
    "\n",
    "m = reflectinmodel(ds_train[1], 2)\n",
    "cb = i -> status(i, ds_train, y_train, ds_test, y_test)\n",
    "@time train!(m, ds_train, y_train; niter=100, opt=ADAM(0.2), cb=cb)"
   ]
  },
  {
   "cell_type": "code",
   "execution_count": 10,
   "id": "e18eaadc",
   "metadata": {},
   "outputs": [
    {
     "data": {
      "text/plain": [
       "1×100 Matrix{Float64}:\n",
       " -189.62  -208.523  -248.18  -266.854  …  -259.407  -218.131  -210.526"
      ]
     },
     "execution_count": 10,
     "metadata": {},
     "output_type": "execute_result"
    }
   ],
   "source": [
    "logpdf(m, ds_train)"
   ]
  },
  {
   "cell_type": "code",
   "execution_count": 11,
   "id": "d5fa4303",
   "metadata": {},
   "outputs": [
    {
     "data": {
      "text/plain": [
       "516"
      ]
     },
     "execution_count": 11,
     "metadata": {},
     "output_type": "execute_result"
    }
   ],
   "source": [
    "sum(length, Flux.params(m))"
   ]
  },
  {
   "cell_type": "code",
   "execution_count": 12,
   "id": "f23baf1c",
   "metadata": {},
   "outputs": [
    {
     "name": "stdout",
     "output_type": "stream",
     "text": [
      "\u001b[34mSumNode\u001b[39m\n",
      "\u001b[34m  ├── \u001b[39m\u001b[31mProductNode (:lumo, :inda, :logp, :ind1, :atoms)\u001b[39m\n",
      "\u001b[34m  │   \u001b[39m\u001b[31m  ├── \u001b[39m\u001b[39mCategorical\n",
      "\u001b[34m  │   \u001b[39m\u001b[31m  ├── \u001b[39m\u001b[39mCategorical\n",
      "\u001b[34m  │   \u001b[39m\u001b[31m  ├── \u001b[39m\u001b[39mCategorical\n",
      "\u001b[34m  │   \u001b[39m\u001b[31m  ├── \u001b[39m\u001b[39mCategorical\n",
      "\u001b[34m  │   \u001b[39m\u001b[31m  ╰── \u001b[39m\u001b[32mSetNode\u001b[39m\n",
      "\u001b[34m  │   \u001b[39m\u001b[31m      \u001b[39m\u001b[32m  ├── c: \u001b[39m\u001b[39mPoisson\n",
      "\u001b[34m  │   \u001b[39m\u001b[31m      \u001b[39m\u001b[32m  ╰── f: \u001b[39m\u001b[33mProductNode (:element, :bonds, :charge, :atom_type)\u001b[39m\n",
      "\u001b[34m  │   \u001b[39m\u001b[31m      \u001b[39m\u001b[32m         \u001b[39m\u001b[33m  ├── \u001b[39m\u001b[39mCategorical\n",
      "\u001b[34m  │   \u001b[39m\u001b[31m      \u001b[39m\u001b[32m         \u001b[39m\u001b[33m  ├── \u001b[39m\u001b[36mSetNode\u001b[39m\n",
      "\u001b[34m  │   \u001b[39m\u001b[31m      \u001b[39m\u001b[32m         \u001b[39m\u001b[33m  │   \u001b[39m\u001b[36m  ├── c: \u001b[39m\u001b[39mPoisson\n",
      "\u001b[34m  │   \u001b[39m\u001b[31m      \u001b[39m\u001b[32m         \u001b[39m\u001b[33m  │   \u001b[39m\u001b[36m  ╰── f: \u001b[39m\u001b[35mProductNode (:element, :bond_type, :charge, :atom_type)\u001b[39m\n",
      "\u001b[34m  │   \u001b[39m\u001b[31m      \u001b[39m\u001b[32m         \u001b[39m\u001b[33m  │   \u001b[39m\u001b[36m         \u001b[39m\u001b[35m  ├── \u001b[39m\u001b[39mCategorical\n",
      "\u001b[34m  │   \u001b[39m\u001b[31m      \u001b[39m\u001b[32m         \u001b[39m\u001b[33m  │   \u001b[39m\u001b[36m         \u001b[39m\u001b[35m  ├── \u001b[39m\u001b[39mCategorical\n",
      "\u001b[34m  │   \u001b[39m\u001b[31m      \u001b[39m\u001b[32m         \u001b[39m\u001b[33m  │   \u001b[39m\u001b[36m         \u001b[39m\u001b[35m  ├── \u001b[39m\u001b[34mSumNode\u001b[39m\n",
      "\u001b[34m  │   \u001b[39m\u001b[31m      \u001b[39m\u001b[32m         \u001b[39m\u001b[33m  │   \u001b[39m\u001b[36m         \u001b[39m\u001b[35m  │   \u001b[39m\u001b[34m  ├── \u001b[39m\u001b[39mMvNormal\n",
      "\u001b[34m  │   \u001b[39m\u001b[31m      \u001b[39m\u001b[32m         \u001b[39m\u001b[33m  │   \u001b[39m\u001b[36m         \u001b[39m\u001b[35m  │   \u001b[39m\u001b[34m  ╰── \u001b[39m\u001b[39mMvNormal\n",
      "\u001b[34m  │   \u001b[39m\u001b[31m      \u001b[39m\u001b[32m         \u001b[39m\u001b[33m  │   \u001b[39m\u001b[36m         \u001b[39m\u001b[35m  ╰── \u001b[39m\u001b[39mCategorical\n",
      "\u001b[34m  │   \u001b[39m\u001b[31m      \u001b[39m\u001b[32m         \u001b[39m\u001b[33m  ├── \u001b[39m\u001b[36mSumNode\u001b[39m\n",
      "\u001b[34m  │   \u001b[39m\u001b[31m      \u001b[39m\u001b[32m         \u001b[39m\u001b[33m  │   \u001b[39m\u001b[36m  ├── \u001b[39m\u001b[39mMvNormal\n",
      "\u001b[34m  │   \u001b[39m\u001b[31m      \u001b[39m\u001b[32m         \u001b[39m\u001b[33m  │   \u001b[39m\u001b[36m  ╰── \u001b[39m\u001b[39mMvNormal\n",
      "\u001b[34m  │   \u001b[39m\u001b[31m      \u001b[39m\u001b[32m         \u001b[39m\u001b[33m  ╰── \u001b[39m\u001b[39mCategorical\n",
      "\u001b[34m  ╰── \u001b[39m\u001b[31mProductNode (:lumo, :inda, :logp, :ind1, :atoms)\u001b[39m\n",
      "\u001b[34m      \u001b[39m\u001b[31m  ├── \u001b[39m\u001b[39mCategorical\n",
      "\u001b[34m      \u001b[39m\u001b[31m  ├── \u001b[39m\u001b[39mCategorical\n",
      "\u001b[34m      \u001b[39m\u001b[31m  ├── \u001b[39m\u001b[39mCategorical\n",
      "\u001b[34m      \u001b[39m\u001b[31m  ├── \u001b[39m\u001b[39mCategorical\n",
      "\u001b[34m      \u001b[39m\u001b[31m  ╰── \u001b[39m\u001b[32mSetNode\u001b[39m\n",
      "\u001b[34m      \u001b[39m\u001b[31m      \u001b[39m\u001b[32m  ├── c: \u001b[39m\u001b[39mPoisson\n",
      "\u001b[34m      \u001b[39m\u001b[31m      \u001b[39m\u001b[32m  ╰── f: \u001b[39m\u001b[33mProductNode (:element, :bonds, :charge, :atom_type)\u001b[39m\n",
      "\u001b[34m      \u001b[39m\u001b[31m      \u001b[39m\u001b[32m         \u001b[39m\u001b[33m  ├── \u001b[39m\u001b[39mCategorical\n",
      "\u001b[34m      \u001b[39m\u001b[31m      \u001b[39m\u001b[32m         \u001b[39m\u001b[33m  ├── \u001b[39m\u001b[36mSetNode\u001b[39m\n",
      "\u001b[34m      \u001b[39m\u001b[31m      \u001b[39m\u001b[32m         \u001b[39m\u001b[33m  │   \u001b[39m\u001b[36m  ├── c: \u001b[39m\u001b[39mPoisson\n",
      "\u001b[34m      \u001b[39m\u001b[31m      \u001b[39m\u001b[32m         \u001b[39m\u001b[33m  │   \u001b[39m\u001b[36m  ╰── f: \u001b[39m\u001b[35mProductNode (:element, :bond_type, :charge, :atom_type)\u001b[39m\n",
      "\u001b[34m      \u001b[39m\u001b[31m      \u001b[39m\u001b[32m         \u001b[39m\u001b[33m  │   \u001b[39m\u001b[36m         \u001b[39m\u001b[35m  ├── \u001b[39m\u001b[39mCategorical\n",
      "\u001b[34m      \u001b[39m\u001b[31m      \u001b[39m\u001b[32m         \u001b[39m\u001b[33m  │   \u001b[39m\u001b[36m         \u001b[39m\u001b[35m  ├── \u001b[39m\u001b[39mCategorical\n",
      "\u001b[34m      \u001b[39m\u001b[31m      \u001b[39m\u001b[32m         \u001b[39m\u001b[33m  │   \u001b[39m\u001b[36m         \u001b[39m\u001b[35m  ├── \u001b[39m\u001b[34mSumNode\u001b[39m\n",
      "\u001b[34m      \u001b[39m\u001b[31m      \u001b[39m\u001b[32m         \u001b[39m\u001b[33m  │   \u001b[39m\u001b[36m         \u001b[39m\u001b[35m  │   \u001b[39m\u001b[34m  ├── \u001b[39m\u001b[39mMvNormal\n",
      "\u001b[34m      \u001b[39m\u001b[31m      \u001b[39m\u001b[32m         \u001b[39m\u001b[33m  │   \u001b[39m\u001b[36m         \u001b[39m\u001b[35m  │   \u001b[39m\u001b[34m  ╰── \u001b[39m\u001b[39mMvNormal\n",
      "\u001b[34m      \u001b[39m\u001b[31m      \u001b[39m\u001b[32m         \u001b[39m\u001b[33m  │   \u001b[39m\u001b[36m         \u001b[39m\u001b[35m  ╰── \u001b[39m\u001b[39mCategorical\n",
      "\u001b[34m      \u001b[39m\u001b[31m      \u001b[39m\u001b[32m         \u001b[39m\u001b[33m  ├── \u001b[39m\u001b[36mSumNode\u001b[39m\n",
      "\u001b[34m      \u001b[39m\u001b[31m      \u001b[39m\u001b[32m         \u001b[39m\u001b[33m  │   \u001b[39m\u001b[36m  ├── \u001b[39m\u001b[39mMvNormal\n",
      "\u001b[34m      \u001b[39m\u001b[31m      \u001b[39m\u001b[32m         \u001b[39m\u001b[33m  │   \u001b[39m\u001b[36m  ╰── \u001b[39m\u001b[39mMvNormal\n",
      "\u001b[34m      \u001b[39m\u001b[31m      \u001b[39m\u001b[32m         \u001b[39m\u001b[33m  ╰── \u001b[39m\u001b[39mCategorical\n"
     ]
    }
   ],
   "source": [
    "printtree(m, htrunc=25, vtrunc=25)"
   ]
  },
  {
   "cell_type": "code",
   "execution_count": null,
   "id": "54fdacd0",
   "metadata": {},
   "outputs": [],
   "source": []
  }
 ],
 "metadata": {
  "kernelspec": {
   "display_name": "Julia 1.7.3",
   "language": "julia",
   "name": "julia-1.7"
  },
  "language_info": {
   "file_extension": ".jl",
   "mimetype": "application/julia",
   "name": "julia",
   "version": "1.7.3"
  }
 },
 "nbformat": 4,
 "nbformat_minor": 5
}
